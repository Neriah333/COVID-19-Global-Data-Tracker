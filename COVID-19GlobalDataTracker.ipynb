{
 "cells": [
  {
   "cell_type": "code",
   "execution_count": null,
   "id": "fb11abb2-105d-4660-afbf-1d4b7d241084",
   "metadata": {},
   "outputs": [],
   "source": [
    "import panda as pd\n",
    "#  Load data from a CSV file\n",
    " df = pd.read_csv('Our World in Data COVID-19 Dataset (CSV & API)')\n",
    " print(df.head())\n",
    "\n",
    "# Check columns\n",
    "print(df.columns)\n",
    "\n",
    "# Identify missing values\n",
    "missing_values = df.isnull().sum()\n",
    "print(missing_values)\n",
    "\n",
    "countries_of_interest = ['Kenya', 'Nigeria']\n",
    "\n",
    "# Filter the DataFrame\n",
    "filtered_df = df[df['Country'].isin(countries_of_interest)]\n",
    "\n",
    "# Show result\n",
    "print(filtered_df)\n",
    "\n",
    "# Drop rows where 'Date' or 'ID' is missing\n",
    "df_cleaned = df.dropna(subset=['Date', 'ID'])\n",
    "\n",
    "# Show cleaned DataFrame\n",
    "print(df_cleaned)\n",
    "\n",
    "df['Date'] = pd.to_datetime(df['Date'])\n",
    "\n",
    "# Check result\n",
    "print(df.dtypes)  # To confirm 'Date' is datetime64\n",
    "\n",
    "# Fill missing with 0\n",
    "df_filled = df.fillna(0)\n",
    "\n",
    "# OR fill with mean\n",
    "df_filled_mean = df.fillna(df['Score'].mean())\n",
    "\n",
    "\n",
    "\n"
   ]
  },
  {
   "cell_type": "code",
   "execution_count": null,
   "id": "5b120bf7-c10f-4d5a-ae9f-15f94834cb6d",
   "metadata": {},
   "outputs": [],
   "source": [
    "import matplotlib.pyplot as plt\n",
    "\n",
    "# Create a line plot\n",
    "plt.plot(x, y)\n",
    "plt.title(\"cases & deaths over time\")\n",
    "plt.xlabel(\"X-axis\")\n",
    "plt.ylabel(\"Y-axis\")\n",
    "plt.show()\n",
    "\n",
    "# Bar chart\n",
    "plt.bar(color='skyblue')\n",
    "plt.title(\"top countries by total cases\")\n",
    "plt.xlabel(\"Country\")\n",
    "plt.ylabel(\"Cases\")\n",
    "plt.show()"
   ]
  }
 ],
 "metadata": {
  "kernelspec": {
   "display_name": "anaconda-panel-2023.05-py310",
   "language": "python",
   "name": "conda-env-anaconda-panel-2023.05-py310-py"
  },
  "language_info": {
   "codemirror_mode": {
    "name": "ipython",
    "version": 3
   },
   "file_extension": ".py",
   "mimetype": "text/x-python",
   "name": "python",
   "nbconvert_exporter": "python",
   "pygments_lexer": "ipython3",
   "version": "3.11.5"
  }
 },
 "nbformat": 4,
 "nbformat_minor": 5
}
